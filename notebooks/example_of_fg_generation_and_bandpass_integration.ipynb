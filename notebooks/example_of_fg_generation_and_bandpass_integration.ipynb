{
 "cells": [
  {
   "cell_type": "markdown",
   "id": "5188c85e",
   "metadata": {},
   "source": [
    "# Play with Mbs and Bandpasses"
   ]
  },
  {
   "cell_type": "code",
   "execution_count": 1,
   "id": "c04afa3f-404b-4e5e-bbbe-2f628e12fa54",
   "metadata": {},
   "outputs": [],
   "source": [
    "# Using this file, we can use \"import litebird_sim\" even if it is not installed system-wide\n",
    "import fixpythonpath"
   ]
  },
  {
   "cell_type": "code",
   "execution_count": 2,
   "id": "4d2ded7a",
   "metadata": {},
   "outputs": [
    {
     "name": "stderr",
     "output_type": "stream",
     "text": [
      "hwloc/linux: Ignoring PCI device with non-16bit domain.\n",
      "Pass --enable-32bits-pci-domain to configure to support such devices\n",
      "(warning: it would break the library ABI, don't enable unless really needed).\n"
     ]
    }
   ],
   "source": [
    "import litebird_sim as lbs\n",
    "import numpy as np\n",
    "import matplotlib.pylab as plt\n",
    "import healpy as hp\n",
    "import astropy"
   ]
  },
  {
   "cell_type": "code",
   "execution_count": 3,
   "id": "20b8c12d",
   "metadata": {},
   "outputs": [
    {
     "ename": "SyntaxError",
     "evalue": "invalid syntax (1309043031.py, line 1)",
     "output_type": "error",
     "traceback": [
      "\u001b[0;36m  Cell \u001b[0;32mIn[3], line 1\u001b[0;36m\u001b[0m\n\u001b[0;31m    To use the IMO bundled in `litebird_sim`, one needs to do the following:\u001b[0m\n\u001b[0m       ^\u001b[0m\n\u001b[0;31mSyntaxError\u001b[0m\u001b[0;31m:\u001b[0m invalid syntax\n"
     ]
    }
   ],
   "source": [
    "To use the IMO bundled in `litebird_sim`, one needs to do the following:"
   ]
  },
  {
   "cell_type": "code",
   "execution_count": null,
   "id": "862ecd08",
   "metadata": {},
   "outputs": [],
   "source": [
    "start_time = 0.0\n",
    "imo = lbs.Imo(flatfile_location=lbs.PTEP_IMO_LOCATION)\n",
    "sim = lbs.Simulation(\n",
    "    base_path=\"tut01\",\n",
    "    imo=imo,\n",
    "    start_time=start_time,\n",
    "    duration_s=3600,\n",
    "    random_seed=12345,\n",
    ")"
   ]
  },
  {
   "cell_type": "markdown",
   "id": "418b07d9",
   "metadata": {},
   "source": [
    "Otherwise, if you want to install the IMO, follow the instructions [in the IMO documentation](https://litebird-sim.readthedocs.io/en/master/imo.html#configuring-the-imo). You can install the IMO with the command `python -m litebird_sim.install_imo` with the [schema.json](https://github.com/litebird/litebird_sim/tree/master/default_imo) in `litebird_sim` or with any other local copy. In this case, use the following:"
   ]
  },
  {
   "cell_type": "code",
   "execution_count": null,
   "id": "e18eb46a",
   "metadata": {},
   "outputs": [],
   "source": [
    "start_time = 0.0\n",
    "imo = lbs.Imo()\n",
    "sim = lbs.Simulation(\n",
    "    base_path=\"tut01\",\n",
    "    start_time=start_time,\n",
    "    duration_s=3600,\n",
    "    random_seed=12345,\n",
    ")"
   ]
  },
  {
   "cell_type": "markdown",
   "id": "add931d3",
   "metadata": {},
   "source": [
    "## One channel"
   ]
  },
  {
   "cell_type": "code",
   "execution_count": null,
   "id": "c9937f96",
   "metadata": {},
   "outputs": [],
   "source": [
    "# Initialize the channel\n",
    "channel = lbs.FreqChannelInfo.from_imo(\n",
    "    url=\"/releases/vPTEP/satellite/MFT/M1-140/channel_info\", imo=imo\n",
    ")"
   ]
  },
  {
   "cell_type": "code",
   "execution_count": null,
   "id": "8705496f",
   "metadata": {},
   "outputs": [],
   "source": [
    "# Parameters of Mbs\n",
    "params = lbs.MbsParameters(\n",
    "    make_cmb=False,\n",
    "    make_fg=True,\n",
    "    fg_models=[\"pysm_synch_0\", \"pysm_freefree_1\", \"pysm_dust_0\"],\n",
    "    nside=64,\n",
    "    gaussian_smooth=True,\n",
    ")"
   ]
  },
  {
   "cell_type": "code",
   "execution_count": null,
   "id": "2b6f5d9e",
   "metadata": {},
   "outputs": [],
   "source": [
    "# Create the class and run the map generation\n",
    "mbs = lbs.Mbs(\n",
    "    simulation=sim,\n",
    "    parameters=params,\n",
    "    channel_list=channel,\n",
    ")\n",
    "maps = mbs.run_all()[0]"
   ]
  },
  {
   "cell_type": "code",
   "execution_count": null,
   "id": "cfdc4871",
   "metadata": {},
   "outputs": [],
   "source": [
    "maps.keys()"
   ]
  },
  {
   "cell_type": "code",
   "execution_count": null,
   "id": "06ea1787",
   "metadata": {},
   "outputs": [],
   "source": [
    "# numpy array with the healpix map\n",
    "maps[\"M1-140\"].shape"
   ]
  },
  {
   "cell_type": "code",
   "execution_count": null,
   "id": "fb3f7b53",
   "metadata": {},
   "outputs": [],
   "source": [
    "# Coordinates of the simulated maps\n",
    "maps[\"Coordinates\"]"
   ]
  },
  {
   "cell_type": "code",
   "execution_count": null,
   "id": "d45238d1",
   "metadata": {},
   "outputs": [],
   "source": [
    "# Parameters of the Mbs simulations\n",
    "maps[\"Mbs_parameters\"]"
   ]
  },
  {
   "cell_type": "markdown",
   "id": "3deb72d6",
   "metadata": {},
   "source": [
    "## Many channels"
   ]
  },
  {
   "cell_type": "code",
   "execution_count": null,
   "id": "3828ff49",
   "metadata": {},
   "outputs": [],
   "source": [
    "# Obtain the info about the instrument from the imo\n",
    "instrument = lbs.InstrumentInfo.from_imo(\n",
    "    url=\"/releases/vPTEP/satellite/MFT/instrument_info\", imo=imo\n",
    ")"
   ]
  },
  {
   "cell_type": "code",
   "execution_count": null,
   "id": "8c3b63db",
   "metadata": {},
   "outputs": [],
   "source": [
    "# Create a list with all the channels\n",
    "channels = list()\n",
    "for ch in instrument.channel_names:\n",
    "    print(ch)\n",
    "    channels.append(\n",
    "        lbs.FreqChannelInfo.from_imo(\n",
    "            url=\"/releases/vPTEP/satellite/MFT/\" + ch + \"/channel_info\", imo=imo\n",
    "        )\n",
    "    )"
   ]
  },
  {
   "cell_type": "code",
   "execution_count": null,
   "id": "c27122bf",
   "metadata": {},
   "outputs": [],
   "source": [
    "# Same as before but using the uuids\n",
    "channels = list()\n",
    "for uuid in instrument.channel_objs:\n",
    "    channel = lbs.FreqChannelInfo.from_imo(url=uuid, imo=imo)\n",
    "    print(channel.channel)\n",
    "    channels.append(channel)"
   ]
  },
  {
   "cell_type": "code",
   "execution_count": null,
   "id": "89d94dbd",
   "metadata": {},
   "outputs": [],
   "source": [
    "mbs = lbs.Mbs(\n",
    "    simulation=sim,\n",
    "    parameters=params,\n",
    "    channel_list=channels,\n",
    ")\n",
    "maps = mbs.run_all()[0]"
   ]
  },
  {
   "cell_type": "code",
   "execution_count": null,
   "id": "bb8b9006",
   "metadata": {},
   "outputs": [],
   "source": [
    "for k in maps.keys():\n",
    "    print(k)"
   ]
  },
  {
   "cell_type": "markdown",
   "id": "9335492a",
   "metadata": {},
   "source": [
    "## Some detectors"
   ]
  },
  {
   "cell_type": "code",
   "execution_count": null,
   "id": "bcf00774",
   "metadata": {},
   "outputs": [],
   "source": [
    "# Now we create a list of detectors\n",
    "channel = lbs.FreqChannelInfo.from_imo(\n",
    "    url=\"/releases/vPTEP/satellite/MFT/M1-140/channel_info\", imo=imo\n",
    ")\n",
    "wafer = \"M02\"\n",
    "orient = \"Q\"\n",
    "dets = []\n",
    "for uuid in channel.detector_objs:\n",
    "    det = lbs.DetectorInfo.from_imo(url=uuid, imo=imo)\n",
    "    if (det.wafer == wafer) and (det.orient == orient):\n",
    "        dets.append(det)"
   ]
  },
  {
   "cell_type": "code",
   "execution_count": null,
   "id": "3408f68a",
   "metadata": {},
   "outputs": [],
   "source": [
    "# We run as before but with detector_list instead of channel_list\n",
    "mbs = lbs.Mbs(\n",
    "    simulation=sim,\n",
    "    parameters=params,\n",
    "    detector_list=dets,\n",
    ")\n",
    "maps = mbs.run_all()[0]"
   ]
  },
  {
   "cell_type": "code",
   "execution_count": null,
   "id": "0092711d",
   "metadata": {},
   "outputs": [],
   "source": [
    "for k in maps.keys():\n",
    "    print(k)"
   ]
  },
  {
   "cell_type": "markdown",
   "id": "e7a4c457",
   "metadata": {},
   "source": [
    "## Now integrating over a top-hat bandpass"
   ]
  },
  {
   "cell_type": "code",
   "execution_count": null,
   "id": "09383675",
   "metadata": {},
   "outputs": [],
   "source": [
    "channel = lbs.FreqChannelInfo.from_imo(\n",
    "    url=\"/releases/vPTEP/satellite/MFT/M1-140/channel_info\", imo=imo\n",
    ")"
   ]
  },
  {
   "cell_type": "code",
   "execution_count": null,
   "id": "dda5516a",
   "metadata": {},
   "outputs": [],
   "source": [
    "# We generate maps with an without band integration\n",
    "params = lbs.MbsParameters(\n",
    "    make_cmb=False,\n",
    "    make_fg=True,\n",
    "    fg_models=[\"pysm_synch_0\", \"pysm_freefree_1\", \"pysm_dust_0\"],\n",
    "    nside=64,\n",
    "    gaussian_smooth=True,\n",
    ")\n",
    "mbs = lbs.Mbs(\n",
    "    simulation=sim,\n",
    "    parameters=params,\n",
    "    channel_list=channel,\n",
    ")\n",
    "mapsnoint = mbs.run_all()[0]\n",
    "\n",
    "params = lbs.MbsParameters(\n",
    "    make_cmb=False,\n",
    "    make_fg=True,\n",
    "    fg_models=[\"pysm_synch_0\", \"pysm_freefree_1\", \"pysm_dust_0\"],\n",
    "    nside=64,\n",
    "    gaussian_smooth=True,\n",
    "    bandpass_int=True,\n",
    ")\n",
    "mbs = lbs.Mbs(\n",
    "    simulation=sim,\n",
    "    parameters=params,\n",
    "    channel_list=channel,\n",
    ")\n",
    "mapsint = mbs.run_all()[0]"
   ]
  },
  {
   "cell_type": "code",
   "execution_count": null,
   "id": "f803417e",
   "metadata": {},
   "outputs": [],
   "source": [
    "hp.mollview(mapsint[\"M1-140\"][1], sub=121)\n",
    "hp.mollview((mapsnoint[\"M1-140\"] - mapsint[\"M1-140\"])[1], sub=122)"
   ]
  },
  {
   "cell_type": "markdown",
   "id": "d26d3157",
   "metadata": {},
   "source": [
    "## Now with a customized bandpass"
   ]
  },
  {
   "cell_type": "code",
   "execution_count": null,
   "id": "fc0ab2f7",
   "metadata": {},
   "outputs": [],
   "source": [
    "# We change the shape of the bands, in channel1 top-hat in channel2 top-hat with cosine tails\n",
    "\n",
    "channel1 = lbs.FreqChannelInfo.from_imo(\n",
    "    url=\"/releases/vPTEP/satellite/MFT/M1-140/channel_info\", imo=imo\n",
    ")\n",
    "\n",
    "band = lbs.BandPassInfo(\n",
    "    bandcenter_ghz=channel1.bandcenter_ghz,\n",
    "    bandwidth_ghz=channel1.bandwidth_ghz,\n",
    "    bandtype=\"top-hat-cosine\",\n",
    "    nsamples_inband=100,\n",
    ")\n",
    "channel2 = lbs.FreqChannelInfo.from_imo(\n",
    "    url=\"/releases/vPTEP/satellite/MFT/M1-140/channel_info\", imo=imo\n",
    ")\n",
    "channel2.band = band\n",
    "\n",
    "plt.plot(channel1.band.freqs_ghz, channel1.band.weights, label=\"Ideal band\")\n",
    "plt.plot(channel2.band.freqs_ghz, channel2.band.weights, label=\"Ideal band\")"
   ]
  },
  {
   "cell_type": "code",
   "execution_count": null,
   "id": "d80485b3",
   "metadata": {},
   "outputs": [],
   "source": [
    "# Here we do the comparison\n",
    "params = lbs.MbsParameters(\n",
    "    make_cmb=False,\n",
    "    make_fg=True,\n",
    "    fg_models=[\"pysm_synch_0\", \"pysm_freefree_1\", \"pysm_dust_0\"],\n",
    "    nside=64,\n",
    "    gaussian_smooth=True,\n",
    "    bandpass_int=True,\n",
    ")\n",
    "mbs = lbs.Mbs(\n",
    "    simulation=sim,\n",
    "    parameters=params,\n",
    "    channel_list=channel1,\n",
    ")\n",
    "mapsth = mbs.run_all()[0]\n",
    "\n",
    "mbs = lbs.Mbs(\n",
    "    simulation=sim,\n",
    "    parameters=params,\n",
    "    channel_list=channel2,\n",
    ")\n",
    "mapsthc = mbs.run_all()[0]"
   ]
  },
  {
   "cell_type": "code",
   "execution_count": null,
   "id": "a9d1bfdd",
   "metadata": {},
   "outputs": [],
   "source": [
    "hp.mollview(mapsth[\"M1-140\"][1], sub=121)\n",
    "hp.mollview((mapsth[\"M1-140\"] - mapsthc[\"M1-140\"])[1], sub=122)"
   ]
  },
  {
   "cell_type": "markdown",
   "id": "f58375b2",
   "metadata": {},
   "source": [
    "## Scan the sky"
   ]
  },
  {
   "cell_type": "code",
   "execution_count": null,
   "id": "dca318d3",
   "metadata": {},
   "outputs": [],
   "source": [
    "# Now we do a simple simulation of 1 hour with 4 detectors\n",
    "telescope = \"MFT\"\n",
    "channel = \"M1-140\"\n",
    "detlist = [\n",
    "    \"001_004_060_30A_140_T\",\n",
    "    \"001_003_000_00A_140_B\",\n",
    "    \"001_003_001_00B_140_T\",\n",
    "    \"001_003_002_45A_140_B\",\n",
    "]"
   ]
  },
  {
   "cell_type": "code",
   "execution_count": null,
   "id": "1ce2a9e2",
   "metadata": {},
   "outputs": [],
   "source": [
    "start_time = 0.0\n",
    "imo = lbs.Imo()\n",
    "sim = lbs.Simulation(\n",
    "    base_path=\"./tut01\",\n",
    "    start_time=start_time,\n",
    "    duration_s=3600,\n",
    "    random_seed=12345,\n",
    ")"
   ]
  },
  {
   "cell_type": "code",
   "execution_count": null,
   "id": "87a4ebec",
   "metadata": {},
   "outputs": [],
   "source": [
    "# Load the definition of the instrument (LFT)\n",
    "sim.set_instrument(\n",
    "    lbs.InstrumentInfo.from_imo(\n",
    "        imo,\n",
    "        f\"/releases/vPTEP/satellite/{telescope}/instrument_info\",\n",
    "    )\n",
    ")\n",
    "\n",
    "channelinfo = lbs.FreqChannelInfo.from_imo(\n",
    "    imo, f\"/releases/vPTEP/satellite/{telescope}/{channel}/channel_info\"\n",
    ")\n",
    "\n",
    "band = lbs.BandPassInfo(\n",
    "    bandcenter_ghz=channelinfo.bandcenter_ghz,\n",
    "    bandwidth_ghz=channelinfo.bandwidth_ghz,\n",
    "    bandtype=\"cheby\",\n",
    "    nsamples_inband=100,\n",
    "    normalize=True,\n",
    ")\n",
    "\n",
    "plt.plot(band.freqs_ghz, band.weights, lw=3, color=\"k\")\n",
    "\n",
    "dets = []\n",
    "for namedet in detlist:\n",
    "    det = lbs.DetectorInfo.from_imo(\n",
    "        url=f\"/releases/vPTEP/satellite/{telescope}/{channel}/{namedet}/detector_info\",\n",
    "        imo=imo,\n",
    "    )\n",
    "    det.quat = [0.0, 0.0, 0.0, 1.0]\n",
    "    det.band = band\n",
    "    det.fwhm_arcmin *= np.random.normal(1.0, 0.01)\n",
    "    det.band.weights = band.bandpass_resampling()\n",
    "    dets.append(det)\n",
    "    plt.plot(band.freqs_ghz, det.band.weights)"
   ]
  },
  {
   "cell_type": "code",
   "execution_count": null,
   "id": "7693c0f1",
   "metadata": {},
   "outputs": [],
   "source": [
    "sim.set_scanning_strategy(imo_url=f\"/releases/vPTEP/satellite/scanning_parameters/\")\n",
    "\n",
    "sim.create_observations(\n",
    "    detectors=dets,\n",
    "    n_blocks_det=1,\n",
    "    n_blocks_time=1,  # blocks different from one if parallelizing\n",
    ")"
   ]
  },
  {
   "cell_type": "code",
   "execution_count": null,
   "id": "11875ffb",
   "metadata": {},
   "outputs": [],
   "source": [
    "params = lbs.MbsParameters(\n",
    "    make_cmb=False,\n",
    "    make_fg=True,\n",
    "    fg_models=[\"pysm_synch_0\", \"pysm_freefree_1\", \"pysm_dust_0\"],\n",
    "    nside=64,\n",
    "    gaussian_smooth=True,\n",
    "    bandpass_int=True,\n",
    ")\n",
    "mbs = lbs.Mbs(\n",
    "    simulation=sim,\n",
    "    parameters=params,\n",
    "    detector_list=dets,\n",
    ")\n",
    "maps = mbs.run_all()[0]"
   ]
  },
  {
   "cell_type": "code",
   "execution_count": null,
   "id": "efab21f6",
   "metadata": {},
   "outputs": [],
   "source": [
    "sim.set_hwp(\n",
    "    lbs.IdealHWP(\n",
    "        sim.instrument.hwp_rpm * 2 * np.pi / 60,\n",
    "    ),\n",
    ")\n",
    "sim.compute_pointings()"
   ]
  },
  {
   "cell_type": "code",
   "execution_count": null,
   "id": "29414ee2",
   "metadata": {},
   "outputs": [],
   "source": [
    "sim.fill_tods(maps)"
   ]
  },
  {
   "cell_type": "code",
   "execution_count": null,
   "id": "2b5d98a7",
   "metadata": {},
   "outputs": [],
   "source": [
    "times_min = (sim.observations[0].get_times() - sim.observations[0].start_time) / 60.0\n",
    "plt.figure(figsize=(14, 8))\n",
    "plt.plot(times_min, sim.observations[0].tod[0])\n",
    "plt.plot(times_min, sim.observations[0].tod[1])\n",
    "plt.plot(times_min, sim.observations[0].tod[2])\n",
    "plt.plot(times_min, sim.observations[0].tod[3])\n",
    "\n",
    "plt.xlabel(\"Time [min]\")\n",
    "plt.ylabel(\"Signal [K]\")"
   ]
  },
  {
   "cell_type": "code",
   "execution_count": null,
   "id": "8e421a9a",
   "metadata": {},
   "outputs": [],
   "source": [
    "plt.figure(figsize=(14, 8))\n",
    "plt.plot(times_min, sim.observations[0].tod[0] - sim.observations[0].tod[0])\n",
    "plt.plot(times_min, sim.observations[0].tod[1] - sim.observations[0].tod[0])\n",
    "plt.plot(times_min, sim.observations[0].tod[2] - sim.observations[0].tod[0])\n",
    "plt.plot(times_min, sim.observations[0].tod[3] - sim.observations[0].tod[0])\n",
    "\n",
    "plt.xlabel(\"Time [min]\")\n",
    "plt.ylabel(r\"$\\Delta$ Signal [K]\")"
   ]
  }
 ],
 "metadata": {
  "kernelspec": {
   "display_name": "Python 3 (ipykernel)",
   "language": "python",
   "name": "python3"
  },
  "language_info": {
   "codemirror_mode": {
    "name": "ipython",
    "version": 3
   },
   "file_extension": ".py",
   "mimetype": "text/x-python",
   "name": "python",
   "nbconvert_exporter": "python",
   "pygments_lexer": "ipython3",
   "version": "3.11.4"
  }
 },
 "nbformat": 4,
 "nbformat_minor": 5
}
